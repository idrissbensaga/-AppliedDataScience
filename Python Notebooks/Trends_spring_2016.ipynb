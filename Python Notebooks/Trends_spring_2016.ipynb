{
 "cells": [
  {
   "cell_type": "code",
   "execution_count": 1,
   "metadata": {},
   "outputs": [],
   "source": [
    "# Import packages\n",
    "import matplotlib.pyplot as plt\n",
    "import pandas as pd\n",
    "from pytrends.request import TrendReq"
   ]
  },
  {
   "cell_type": "code",
   "execution_count": 2,
   "metadata": {},
   "outputs": [],
   "source": [
    "# Create pytrends obj\n",
    "pytrend = TrendReq()"
   ]
  },
  {
   "cell_type": "code",
   "execution_count": 3,
   "metadata": {},
   "outputs": [],
   "source": [
    "# Create list with keywords\n",
    "kw_list = ['pasen', 'valentijnsdag']\n",
    "\n",
    "# Create payload\n",
    "pytrend.build_payload(kw_list, timeframe='2016-01-01 2016-05-30', geo='NL')\n",
    "\n",
    "# Get interest over time, in a dataframe and reset it's index\n",
    "interest = pytrend.interest_over_time().reset_index()\n",
    "\n",
    "filter1 = interest['date'].dt.month >= 2\n",
    "filter2 = interest['date'].dt.month <= 5\n",
    "q1_interest= interest.where(filter1 & filter2).dropna()"
   ]
  },
  {
   "cell_type": "code",
   "execution_count": 5,
   "metadata": {},
   "outputs": [
    {
     "name": "stdout",
     "output_type": "stream",
     "text": [
      "          date  pasen  valentijnsdag  isPartial\n",
      "31  2016-02-01    3.0            2.0        0.0\n",
      "32  2016-02-02    3.0            4.0        0.0\n",
      "33  2016-02-03    3.0            2.0        0.0\n",
      "34  2016-02-04    3.0            3.0        0.0\n",
      "35  2016-02-05    3.0            3.0        0.0\n",
      "36  2016-02-06    3.0            3.0        0.0\n",
      "37  2016-02-07    3.0            4.0        0.0\n",
      "38  2016-02-08    3.0            4.0        0.0\n",
      "39  2016-02-09    4.0            5.0        0.0\n",
      "40  2016-02-10    3.0            5.0        0.0\n",
      "41  2016-02-11    4.0            6.0        0.0\n",
      "42  2016-02-12    4.0            9.0        0.0\n",
      "43  2016-02-13    2.0           14.0        0.0\n",
      "44  2016-02-14    4.0           43.0        0.0\n",
      "45  2016-02-15    5.0            2.0        0.0\n",
      "46  2016-02-16    4.0            0.0        0.0\n",
      "47  2016-02-17    3.0            0.0        0.0\n",
      "48  2016-02-18    5.0            0.0        0.0\n",
      "49  2016-02-19    4.0            0.0        0.0\n",
      "50  2016-02-20    4.0            0.0        0.0\n",
      "51  2016-02-21    6.0            0.0        0.0\n",
      "52  2016-02-22    5.0            0.0        0.0\n",
      "53  2016-02-23    5.0            0.0        0.0\n",
      "54  2016-02-24    5.0            0.0        0.0\n",
      "55  2016-02-25    5.0            0.0        0.0\n",
      "56  2016-02-26    5.0            0.0        0.0\n",
      "57  2016-02-27    5.0            0.0        0.0\n",
      "58  2016-02-28    9.0            0.0        0.0\n",
      "59  2016-02-29    7.0            0.0        0.0\n",
      "60  2016-03-01    7.0            0.0        0.0\n",
      "61  2016-03-02    6.0            0.0        0.0\n",
      "62  2016-03-03    7.0            0.0        0.0\n",
      "63  2016-03-04    7.0            0.0        0.0\n",
      "64  2016-03-05    8.0            0.0        0.0\n",
      "65  2016-03-06   10.0            0.0        0.0\n",
      "66  2016-03-07   10.0            0.0        0.0\n",
      "67  2016-03-08    9.0            0.0        0.0\n",
      "68  2016-03-09    8.0            0.0        0.0\n",
      "69  2016-03-10    8.0            0.0        0.0\n",
      "70  2016-03-11    7.0            0.0        0.0\n",
      "71  2016-03-12    8.0            0.0        0.0\n",
      "72  2016-03-13   10.0            0.0        0.0\n",
      "73  2016-03-14   12.0            0.0        0.0\n",
      "74  2016-03-15   11.0            0.0        0.0\n",
      "75  2016-03-16   11.0            0.0        0.0\n",
      "76  2016-03-17   13.0            0.0        0.0\n",
      "77  2016-03-18   14.0            0.0        0.0\n",
      "78  2016-03-19   12.0            0.0        0.0\n",
      "79  2016-03-20   17.0            0.0        0.0\n",
      "80  2016-03-21   18.0            0.0        0.0\n",
      "81  2016-03-22   16.0            0.0        0.0\n",
      "82  2016-03-23   22.0            0.0        0.0\n",
      "83  2016-03-24   32.0            0.0        0.0\n",
      "84  2016-03-25   41.0            0.0        0.0\n",
      "85  2016-03-26   55.0            0.0        0.0\n",
      "86  2016-03-27  100.0            0.0        0.0\n",
      "87  2016-03-28   34.0            0.0        0.0\n",
      "88  2016-03-29    4.0            0.0        0.0\n",
      "89  2016-03-30    2.0            0.0        0.0\n",
      "90  2016-03-31    2.0            0.0        0.0\n",
      "91  2016-04-01    1.0            0.0        0.0\n",
      "92  2016-04-02    1.0            0.0        0.0\n",
      "93  2016-04-03    1.0            0.0        0.0\n",
      "94  2016-04-04    2.0            0.0        0.0\n",
      "95  2016-04-05    1.0            0.0        0.0\n",
      "96  2016-04-06    1.0            0.0        0.0\n",
      "97  2016-04-07    1.0            0.0        0.0\n",
      "98  2016-04-08    1.0            0.0        0.0\n",
      "99  2016-04-09    1.0            0.0        0.0\n",
      "100 2016-04-10    1.0            0.0        0.0\n",
      "101 2016-04-11    1.0            0.0        0.0\n",
      "102 2016-04-12    1.0            0.0        0.0\n",
      "103 2016-04-13    1.0            0.0        0.0\n",
      "104 2016-04-14    1.0            0.0        0.0\n",
      "105 2016-04-15    1.0            0.0        0.0\n",
      "106 2016-04-16    1.0            0.0        0.0\n",
      "107 2016-04-17    0.0            0.0        0.0\n",
      "108 2016-04-18    1.0            0.0        0.0\n",
      "109 2016-04-19    1.0            0.0        0.0\n",
      "110 2016-04-20    0.0            0.0        0.0\n",
      "111 2016-04-21    1.0            0.0        0.0\n",
      "112 2016-04-22    1.0            0.0        0.0\n",
      "113 2016-04-23    1.0            0.0        0.0\n",
      "114 2016-04-24    1.0            0.0        0.0\n",
      "115 2016-04-25    0.0            0.0        0.0\n",
      "116 2016-04-26    1.0            0.0        0.0\n",
      "117 2016-04-27    1.0            0.0        0.0\n",
      "118 2016-04-28    1.0            0.0        0.0\n",
      "119 2016-04-29    1.0            0.0        0.0\n",
      "120 2016-04-30    2.0            0.0        0.0\n",
      "121 2016-05-01    2.0            0.0        0.0\n",
      "122 2016-05-02    1.0            0.0        0.0\n",
      "123 2016-05-03    1.0            0.0        0.0\n",
      "124 2016-05-04    1.0            0.0        0.0\n",
      "125 2016-05-05    2.0            0.0        0.0\n",
      "126 2016-05-06    1.0            0.0        0.0\n",
      "127 2016-05-07    1.0            0.0        0.0\n",
      "128 2016-05-08    1.0            0.0        0.0\n",
      "129 2016-05-09    1.0            0.0        0.0\n",
      "130 2016-05-10    1.0            0.0        0.0\n",
      "131 2016-05-11    0.0            0.0        0.0\n",
      "132 2016-05-12    0.0            0.0        0.0\n",
      "133 2016-05-13    1.0            0.0        0.0\n",
      "134 2016-05-14    1.0            0.0        0.0\n",
      "135 2016-05-15    2.0            0.0        0.0\n",
      "136 2016-05-16    1.0            0.0        0.0\n",
      "137 2016-05-17    1.0            0.0        0.0\n",
      "138 2016-05-18    0.0            0.0        0.0\n",
      "139 2016-05-19    1.0            0.0        0.0\n",
      "140 2016-05-20    0.0            0.0        0.0\n",
      "141 2016-05-21    0.0            0.0        0.0\n",
      "142 2016-05-22    1.0            0.0        0.0\n",
      "143 2016-05-23    0.0            0.0        0.0\n",
      "144 2016-05-24    0.0            0.0        0.0\n",
      "145 2016-05-25    0.0            0.0        0.0\n",
      "146 2016-05-26    0.0            0.0        0.0\n",
      "147 2016-05-27    0.0            0.0        0.0\n",
      "148 2016-05-28    0.0            0.0        0.0\n",
      "149 2016-05-29    1.0            0.0        0.0\n",
      "150 2016-05-30    1.0            0.0        0.0\n"
     ]
    }
   ],
   "source": [
    "pd.set_option('display.max_columns', q1_interest.shape[1])\n",
    "pd.set_option('display.max_rows', None)\n",
    "pd.set_option('display.width', None)\n",
    "print(q1_interest)"
   ]
  },
  {
   "cell_type": "code",
   "execution_count": 6,
   "metadata": {},
   "outputs": [],
   "source": [
    "# Define X and Y\n",
    "x = q1_interest['date'].where(q1_interest['date'].dt.year == 2016)\n",
    "y1 = q1_interest['pasen']\n",
    "y2 = q1_interest['valentijnsdag']"
   ]
  },
  {
   "cell_type": "code",
   "execution_count": 7,
   "metadata": {},
   "outputs": [
    {
     "data": {
      "image/png": "[encoded data removed]",
      "text/plain": [
       "<Figure size 720x504 with 1 Axes>"
      ]
     },
     "metadata": {
      "needs_background": "light"
     },
     "output_type": "display_data"
    }
   ],
   "source": [
    "# Plot graphs\n",
    "fig, ax = plt.subplots(figsize=(10,7))\n",
    "\n",
    "ax.plot(x, y1, label='pasen', linestyle='-')\n",
    "ax.plot(x, y2, label='valentijnsdag', linestyle='-')\n",
    "ax.set(\n",
    "    xlabel='Q1 in 2016',\n",
    "    ylabel='Aantal zoekresultaten',\n",
    "    title='Aantal zoekresultaten, per sleutelwoord, over Q1 in 2016')\n",
    "ax.grid()\n",
    "plt.legend()\n",
    "plt.show()"
   ]
  },
  {
   "cell_type": "code",
   "execution_count": null,
   "metadata": {},
   "outputs": [],
   "source": []
  }
 ],
 "metadata": {
  "kernelspec": {
   "display_name": "Python 3",
   "language": "python",
   "name": "python3"
  },
  "language_info": {
   "codemirror_mode": {
    "name": "ipython",
    "version": 3
   },
   "file_extension": ".py",
   "mimetype": "text/x-python",
   "name": "python",
   "nbconvert_exporter": "python",
   "pygments_lexer": "ipython3",
   "version": "3.6.10"
  }
 },
 "nbformat": 4,
 "nbformat_minor": 4
}
