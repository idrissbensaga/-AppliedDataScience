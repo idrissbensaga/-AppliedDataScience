{
 "cells": [
  {
   "cell_type": "code",
   "execution_count": 37,
   "metadata": {},
   "outputs": [],
   "source": [
    "# Import packages\n",
    "import matplotlib.pyplot as plt\n",
    "import pandas as pd\n",
    "from pytrends.request import TrendReq"
   ]
  },
  {
   "cell_type": "code",
   "execution_count": 38,
   "metadata": {},
   "outputs": [],
   "source": [
    "# Create pytrends obj\n",
    "pytrend = TrendReq()"
   ]
  },
  {
   "cell_type": "code",
   "execution_count": 49,
   "metadata": {},
   "outputs": [],
   "source": [
    "# Create list with keywords\n",
    "kw_list = ['pasen', 'valentijnsdag']\n",
    "\n",
    "# Create payload\n",
    "pytrend.build_payload(kw_list, timeframe='2015-01-01 2015-05-30', geo='NL')\n",
    "\n",
    "# Get interest over time, in a dataframe and reset it's index\n",
    "interest = pytrend.interest_over_time().reset_index()\n",
    "\n",
    "filter1 = interest['date'].dt.month >= 2\n",
    "filter2 = interest['date'].dt.month <= 5\n",
    "q1_interest= interest.where(filter1 & filter2).dropna()"
   ]
  },
  {
   "cell_type": "code",
   "execution_count": 55,
   "metadata": {},
   "outputs": [
    {
     "name": "stdout",
     "output_type": "stream",
     "text": [
      "          date  pasen  valentijnsdag  isPartial\n",
      "31  2015-02-01    3.0            2.0        0.0\n",
      "32  2015-02-02    2.0            3.0        0.0\n",
      "33  2015-02-03    2.0            3.0        0.0\n",
      "34  2015-02-04    3.0            3.0        0.0\n",
      "35  2015-02-05    2.0            3.0        0.0\n",
      "36  2015-02-06    2.0            3.0        0.0\n",
      "37  2015-02-07    3.0            2.0        0.0\n",
      "38  2015-02-08    4.0            4.0        0.0\n",
      "39  2015-02-09    4.0            5.0        0.0\n",
      "40  2015-02-10    3.0            5.0        0.0\n",
      "41  2015-02-11    3.0            6.0        0.0\n",
      "42  2015-02-12    2.0            6.0        0.0\n",
      "43  2015-02-13    3.0           12.0        0.0\n",
      "44  2015-02-14    3.0           41.0        0.0\n",
      "45  2015-02-15    5.0            3.0        0.0\n",
      "46  2015-02-16    4.0            1.0        0.0\n",
      "47  2015-02-17    4.0            1.0        0.0\n",
      "48  2015-02-18    5.0            0.0        0.0\n",
      "49  2015-02-19    4.0            0.0        0.0\n",
      "50  2015-02-20    4.0            0.0        0.0\n",
      "51  2015-02-21    4.0            1.0        0.0\n",
      "52  2015-02-22    6.0            0.0        0.0\n",
      "53  2015-02-23    6.0            0.0        0.0\n",
      "54  2015-02-24    4.0            0.0        0.0\n",
      "55  2015-02-25    4.0            0.0        0.0\n",
      "56  2015-02-26    5.0            0.0        0.0\n",
      "57  2015-02-27    4.0            0.0        0.0\n",
      "58  2015-02-28    5.0            0.0        0.0\n",
      "59  2015-03-01    6.0            0.0        0.0\n",
      "60  2015-03-02    7.0            0.0        0.0\n",
      "61  2015-03-03    7.0            0.0        0.0\n",
      "62  2015-03-04    7.0            0.0        0.0\n",
      "63  2015-03-05    6.0            0.0        0.0\n",
      "64  2015-03-06    7.0            0.0        0.0\n",
      "65  2015-03-07    7.0            0.0        0.0\n",
      "66  2015-03-08   10.0            0.0        0.0\n",
      "67  2015-03-09    9.0            0.0        0.0\n",
      "68  2015-03-10    7.0            0.0        0.0\n",
      "69  2015-03-11    7.0            0.0        0.0\n",
      "70  2015-03-12    7.0            0.0        0.0\n",
      "71  2015-03-13    6.0            0.0        0.0\n",
      "72  2015-03-14    9.0            0.0        0.0\n",
      "73  2015-03-15   10.0            0.0        0.0\n",
      "74  2015-03-16   10.0            0.0        0.0\n",
      "75  2015-03-17   10.0            0.0        0.0\n",
      "76  2015-03-18   10.0            0.0        0.0\n",
      "77  2015-03-19    9.0            0.0        0.0\n",
      "78  2015-03-20    9.0            0.0        0.0\n",
      "79  2015-03-21   11.0            0.0        0.0\n",
      "80  2015-03-22   12.0            0.0        0.0\n",
      "81  2015-03-23   12.0            0.0        0.0\n",
      "82  2015-03-24   12.0            0.0        0.0\n",
      "83  2015-03-25   13.0            0.0        0.0\n",
      "84  2015-03-26   13.0            0.0        0.0\n",
      "85  2015-03-27   14.0            0.0        0.0\n",
      "86  2015-03-28   11.0            0.0        0.0\n",
      "87  2015-03-29   15.0            0.0        0.0\n",
      "88  2015-03-30   22.0            0.0        0.0\n",
      "89  2015-03-31   18.0            0.0        0.0\n",
      "90  2015-04-01   23.0            0.0        0.0\n",
      "91  2015-04-02   35.0            0.0        0.0\n",
      "92  2015-04-03   44.0            0.0        0.0\n",
      "93  2015-04-04   61.0            0.0        0.0\n",
      "94  2015-04-05  100.0            0.0        0.0\n",
      "95  2015-04-06   40.0            0.0        0.0\n",
      "96  2015-04-07    5.0            0.0        0.0\n",
      "97  2015-04-08    3.0            0.0        0.0\n",
      "98  2015-04-09    2.0            0.0        0.0\n",
      "99  2015-04-10    2.0            0.0        0.0\n",
      "100 2015-04-11    2.0            0.0        0.0\n",
      "101 2015-04-12    2.0            0.0        0.0\n",
      "102 2015-04-13    1.0            0.0        0.0\n",
      "103 2015-04-14    1.0            0.0        0.0\n",
      "104 2015-04-15    1.0            0.0        0.0\n",
      "105 2015-04-16    1.0            0.0        0.0\n",
      "106 2015-04-17    1.0            0.0        0.0\n",
      "107 2015-04-18    0.0            0.0        0.0\n",
      "108 2015-04-19    1.0            0.0        0.0\n",
      "109 2015-04-20    1.0            0.0        0.0\n",
      "110 2015-04-21    1.0            0.0        0.0\n",
      "111 2015-04-22    1.0            0.0        0.0\n",
      "112 2015-04-23    1.0            0.0        0.0\n",
      "113 2015-04-24    1.0            0.0        0.0\n",
      "114 2015-04-25    1.0            0.0        0.0\n",
      "115 2015-04-26    1.0            0.0        0.0\n",
      "116 2015-04-27    1.0            0.0        0.0\n",
      "117 2015-04-28    1.0            0.0        0.0\n",
      "118 2015-04-29    0.0            0.0        0.0\n",
      "119 2015-04-30    1.0            0.0        0.0\n",
      "120 2015-05-01    1.0            0.0        0.0\n",
      "121 2015-05-02    1.0            0.0        0.0\n",
      "122 2015-05-03    1.0            0.0        0.0\n",
      "123 2015-05-04    0.0            0.0        0.0\n",
      "124 2015-05-05    1.0            0.0        0.0\n",
      "125 2015-05-06    1.0            0.0        0.0\n",
      "126 2015-05-07    1.0            0.0        0.0\n",
      "127 2015-05-08    1.0            0.0        0.0\n",
      "128 2015-05-09    1.0            0.0        0.0\n",
      "129 2015-05-10    1.0            0.0        0.0\n",
      "130 2015-05-11    1.0            0.0        0.0\n",
      "131 2015-05-12    0.0            0.0        0.0\n",
      "132 2015-05-13    1.0            0.0        0.0\n",
      "133 2015-05-14    2.0            0.0        0.0\n",
      "134 2015-05-15    1.0            0.0        0.0\n",
      "135 2015-05-16    1.0            0.0        0.0\n",
      "136 2015-05-17    1.0            0.0        0.0\n",
      "137 2015-05-18    1.0            0.0        0.0\n",
      "138 2015-05-19    1.0            0.0        0.0\n",
      "139 2015-05-20    1.0            0.0        0.0\n",
      "140 2015-05-21    1.0            0.0        0.0\n",
      "141 2015-05-22    1.0            0.0        0.0\n",
      "142 2015-05-23    1.0            0.0        0.0\n",
      "143 2015-05-24    1.0            0.0        0.0\n",
      "144 2015-05-25    1.0            0.0        0.0\n",
      "145 2015-05-26    0.0            0.0        0.0\n",
      "146 2015-05-27    1.0            0.0        0.0\n",
      "147 2015-05-28    1.0            0.0        0.0\n",
      "148 2015-05-29    1.0            0.0        0.0\n",
      "149 2015-05-30    0.0            0.0        0.0\n"
     ]
    }
   ],
   "source": [
    "pd.set_option('display.max_columns', q1_interest.shape[1])\n",
    "pd.set_option('display.max_rows', None)\n",
    "pd.set_option('display.width', None)\n",
    "print(q1_interest)"
   ]
  },
  {
   "cell_type": "code",
   "execution_count": 56,
   "metadata": {},
   "outputs": [],
   "source": [
    "# Define X and Y\n",
    "x = q1_interest['date'].where(q1_interest['date'].dt.year == 2015)\n",
    "y1 = q1_interest['pasen']\n",
    "y2 = q1_interest['valentijnsdag']"
   ]
  },
  {
   "cell_type": "code",
   "execution_count": 58,
   "metadata": {},
   "outputs": [
    {
     "data": {
      "image/png": "[encoded data removed]",
      "text/plain": [
       "<Figure size 720x504 with 1 Axes>"
      ]
     },
     "metadata": {
      "needs_background": "light"
     },
     "output_type": "display_data"
    }
   ],
   "source": [
    "# Plot graphs\n",
    "fig, ax = plt.subplots(figsize=(10,7))\n",
    "\n",
    "ax.plot(x, y1, label='pasen', linestyle='-')\n",
    "ax.plot(x, y2, label='valentijnsdag', linestyle='-')\n",
    "ax.set(\n",
    "    xlabel='Q1 in 2015',\n",
    "    ylabel='Aantal zoekresultaten',\n",
    "    title='Aantal zoekresultaten, per sleutelwoord, over Q1 in 2015')\n",
    "ax.grid()\n",
    "plt.legend()\n",
    "plt.show()"
   ]
  },
  {
   "cell_type": "code",
   "execution_count": null,
   "metadata": {},
   "outputs": [],
   "source": []
  }
 ],
 "metadata": {
  "kernelspec": {
   "display_name": "Python 3",
   "language": "python",
   "name": "python3"
  },
  "language_info": {
   "codemirror_mode": {
    "name": "ipython",
    "version": 3
   },
   "file_extension": ".py",
   "mimetype": "text/x-python",
   "name": "python",
   "nbconvert_exporter": "python",
   "pygments_lexer": "ipython3",
   "version": "3.6.10"
  }
 },
 "nbformat": 4,
 "nbformat_minor": 4
}
