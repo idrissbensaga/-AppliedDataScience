{
 "cells": [
  {
   "cell_type": "code",
   "execution_count": 1,
   "metadata": {},
   "outputs": [],
   "source": [
    "# Import packages\n",
    "import matplotlib.pyplot as plt\n",
    "import pandas as pd\n",
    "from pytrends.request import TrendReq"
   ]
  },
  {
   "cell_type": "code",
   "execution_count": 2,
   "metadata": {},
   "outputs": [],
   "source": [
    "# Create pytrends obj\n",
    "pytrend = TrendReq()"
   ]
  },
  {
   "cell_type": "code",
   "execution_count": 3,
   "metadata": {},
   "outputs": [],
   "source": [
    "# Create list with keywords\n",
    "kw_list = ['pasen', 'valentijnsdag']\n",
    "\n",
    "# Create payload\n",
    "pytrend.build_payload(kw_list, timeframe='2019-01-01 2019-05-30', geo='NL')\n",
    "\n",
    "# Get interest over time, in a dataframe and reset it's index\n",
    "interest = pytrend.interest_over_time().reset_index()\n",
    "\n",
    "filter1 = interest['date'].dt.month >= 2\n",
    "filter2 = interest['date'].dt.month <= 5\n",
    "q1_interest= interest.where(filter1 & filter2).dropna()"
   ]
  },
  {
   "cell_type": "code",
   "execution_count": 4,
   "metadata": {},
   "outputs": [
    {
     "name": "stdout",
     "output_type": "stream",
     "text": [
      "          date  pasen  valentijnsdag  isPartial\n",
      "31  2019-02-01    2.0            2.0        0.0\n",
      "32  2019-02-02    2.0            2.0        0.0\n",
      "33  2019-02-03    2.0            2.0        0.0\n",
      "34  2019-02-04    2.0            3.0        0.0\n",
      "35  2019-02-05    2.0            3.0        0.0\n",
      "36  2019-02-06    2.0            3.0        0.0\n",
      "37  2019-02-07    1.0            4.0        0.0\n",
      "38  2019-02-08    2.0            3.0        0.0\n",
      "39  2019-02-09    2.0            3.0        0.0\n",
      "40  2019-02-10    3.0            4.0        0.0\n",
      "41  2019-02-11    2.0            6.0        0.0\n",
      "42  2019-02-12    3.0            7.0        0.0\n",
      "43  2019-02-13    2.0           12.0        0.0\n",
      "44  2019-02-14    3.0           27.0        0.0\n",
      "45  2019-02-15    2.0            1.0        0.0\n",
      "46  2019-02-16    3.0            1.0        0.0\n",
      "47  2019-02-17    4.0            0.0        0.0\n",
      "48  2019-02-18    3.0            0.0        0.0\n",
      "49  2019-02-19    3.0            0.0        0.0\n",
      "50  2019-02-20    3.0            0.0        0.0\n",
      "51  2019-02-21    3.0            0.0        0.0\n",
      "52  2019-02-22    3.0            0.0        0.0\n",
      "53  2019-02-23    4.0            0.0        0.0\n",
      "54  2019-02-24    5.0            0.0        0.0\n",
      "55  2019-02-25    4.0            0.0        0.0\n",
      "56  2019-02-26    3.0            0.0        0.0\n",
      "57  2019-02-27    3.0            0.0        0.0\n",
      "58  2019-02-28    5.0            0.0        0.0\n",
      "59  2019-03-01    3.0            0.0        0.0\n",
      "60  2019-03-02    3.0            0.0        0.0\n",
      "61  2019-03-03    5.0            0.0        0.0\n",
      "62  2019-03-04    3.0            0.0        0.0\n",
      "63  2019-03-05    4.0            0.0        0.0\n",
      "64  2019-03-06    4.0            0.0        0.0\n",
      "65  2019-03-07    4.0            0.0        0.0\n",
      "66  2019-03-08    4.0            0.0        0.0\n",
      "67  2019-03-09    5.0            0.0        0.0\n",
      "68  2019-03-10    6.0            0.0        0.0\n",
      "69  2019-03-11    5.0            0.0        0.0\n",
      "70  2019-03-12    4.0            0.0        0.0\n",
      "71  2019-03-13    5.0            0.0        0.0\n",
      "72  2019-03-14    4.0            0.0        0.0\n",
      "73  2019-03-15    4.0            0.0        0.0\n",
      "74  2019-03-16    4.0            0.0        0.0\n",
      "75  2019-03-17    6.0            0.0        0.0\n",
      "76  2019-03-18    5.0            0.0        0.0\n",
      "77  2019-03-19    6.0            0.0        0.0\n",
      "78  2019-03-20    5.0            0.0        0.0\n",
      "79  2019-03-21    6.0            0.0        0.0\n",
      "80  2019-03-22    5.0            0.0        0.0\n",
      "81  2019-03-23    6.0            0.0        0.0\n",
      "82  2019-03-24    9.0            0.0        0.0\n",
      "83  2019-03-25    8.0            0.0        0.0\n",
      "84  2019-03-26    6.0            0.0        0.0\n",
      "85  2019-03-27    7.0            0.0        0.0\n",
      "86  2019-03-28    8.0            0.0        0.0\n",
      "87  2019-03-29    6.0            0.0        0.0\n",
      "88  2019-03-30    6.0            0.0        0.0\n",
      "89  2019-03-31   10.0            0.0        0.0\n",
      "90  2019-04-01   10.0            0.0        0.0\n",
      "91  2019-04-02    8.0            0.0        0.0\n",
      "92  2019-04-03    7.0            0.0        0.0\n",
      "93  2019-04-04    9.0            0.0        0.0\n",
      "94  2019-04-05    8.0            0.0        0.0\n",
      "95  2019-04-06    9.0            0.0        0.0\n",
      "96  2019-04-07    9.0            0.0        0.0\n",
      "97  2019-04-08    9.0            0.0        0.0\n",
      "98  2019-04-09   10.0            0.0        0.0\n",
      "99  2019-04-10   10.0            0.0        0.0\n",
      "100 2019-04-11    9.0            0.0        0.0\n",
      "101 2019-04-12   10.0            0.0        0.0\n",
      "102 2019-04-13   11.0            0.0        0.0\n",
      "103 2019-04-14   15.0            0.0        0.0\n",
      "104 2019-04-15   16.0            0.0        0.0\n",
      "105 2019-04-16   17.0            0.0        0.0\n",
      "106 2019-04-17   20.0            0.0        0.0\n",
      "107 2019-04-18   29.0            0.0        0.0\n",
      "108 2019-04-19   36.0            0.0        0.0\n",
      "109 2019-04-20   56.0            0.0        0.0\n",
      "110 2019-04-21  100.0            0.0        0.0\n",
      "111 2019-04-22   44.0            0.0        0.0\n",
      "112 2019-04-23    5.0            0.0        0.0\n",
      "113 2019-04-24    2.0            0.0        0.0\n",
      "114 2019-04-25    2.0            0.0        0.0\n",
      "115 2019-04-26    1.0            0.0        0.0\n",
      "116 2019-04-27    2.0            0.0        0.0\n",
      "117 2019-04-28    2.0            0.0        0.0\n",
      "118 2019-04-29    1.0            0.0        0.0\n",
      "119 2019-04-30    1.0            0.0        0.0\n",
      "120 2019-05-01    1.0            0.0        0.0\n",
      "121 2019-05-02    1.0            0.0        0.0\n",
      "122 2019-05-03    0.0            0.0        0.0\n",
      "123 2019-05-04    1.0            0.0        0.0\n",
      "124 2019-05-05    1.0            0.0        0.0\n",
      "125 2019-05-06    1.0            0.0        0.0\n",
      "126 2019-05-07    1.0            0.0        0.0\n",
      "127 2019-05-08    1.0            0.0        0.0\n",
      "128 2019-05-09    0.0            0.0        0.0\n",
      "129 2019-05-10    0.0            0.0        0.0\n",
      "130 2019-05-11    1.0            0.0        0.0\n",
      "131 2019-05-12    1.0            0.0        0.0\n",
      "132 2019-05-13    1.0            0.0        0.0\n",
      "133 2019-05-14    1.0            0.0        0.0\n",
      "134 2019-05-15    1.0            0.0        0.0\n",
      "135 2019-05-16    0.0            0.0        0.0\n",
      "136 2019-05-17    0.0            0.0        0.0\n",
      "137 2019-05-18    1.0            0.0        0.0\n",
      "138 2019-05-19    1.0            0.0        0.0\n",
      "139 2019-05-20    1.0            0.0        0.0\n",
      "140 2019-05-21    1.0            0.0        0.0\n",
      "141 2019-05-22    1.0            0.0        0.0\n",
      "142 2019-05-23    0.0            0.0        0.0\n",
      "143 2019-05-24    1.0            0.0        0.0\n",
      "144 2019-05-25    0.0            0.0        0.0\n",
      "145 2019-05-26    1.0            0.0        0.0\n",
      "146 2019-05-27    1.0            0.0        0.0\n",
      "147 2019-05-28    1.0            0.0        0.0\n",
      "148 2019-05-29    1.0            0.0        0.0\n",
      "149 2019-05-30    2.0            0.0        0.0\n"
     ]
    }
   ],
   "source": [
    "pd.set_option('display.max_columns', q1_interest.shape[1])\n",
    "pd.set_option('display.max_rows', None)\n",
    "pd.set_option('display.width', None)\n",
    "print(q1_interest)"
   ]
  },
  {
   "cell_type": "code",
   "execution_count": 5,
   "metadata": {},
   "outputs": [],
   "source": [
    "# Define X and Y\n",
    "x = q1_interest['date'].where(q1_interest['date'].dt.year == 2019)\n",
    "y1 = q1_interest['pasen']\n",
    "y2 = q1_interest['valentijnsdag']"
   ]
  },
  {
   "cell_type": "code",
   "execution_count": 6,
   "metadata": {},
   "outputs": [
    {
     "data": {
      "image/png": "[encoded data removed]",
      "text/plain": [
       "<Figure size 720x504 with 1 Axes>"
      ]
     },
     "metadata": {
      "needs_background": "light"
     },
     "output_type": "display_data"
    }
   ],
   "source": [
    "# Plot graphs\n",
    "fig, ax = plt.subplots(figsize=(10,7))\n",
    "\n",
    "ax.plot(x, y1, label='pasen', linestyle='-')\n",
    "ax.plot(x, y2, label='valentijnsdag', linestyle='-')\n",
    "ax.set(\n",
    "    xlabel='Q1 in 2019',\n",
    "    ylabel='Aantal zoekresultaten',\n",
    "    title='Aantal zoekresultaten, per sleutelwoord, over Q1 in 2019')\n",
    "ax.grid()\n",
    "plt.legend()\n",
    "plt.show()"
   ]
  },
  {
   "cell_type": "code",
   "execution_count": null,
   "metadata": {},
   "outputs": [],
   "source": []
  }
 ],
 "metadata": {
  "kernelspec": {
   "display_name": "Python 3",
   "language": "python",
   "name": "python3"
  },
  "language_info": {
   "codemirror_mode": {
    "name": "ipython",
    "version": 3
   },
   "file_extension": ".py",
   "mimetype": "text/x-python",
   "name": "python",
   "nbconvert_exporter": "python",
   "pygments_lexer": "ipython3",
   "version": "3.6.10"
  }
 },
 "nbformat": 4,
 "nbformat_minor": 4
}
