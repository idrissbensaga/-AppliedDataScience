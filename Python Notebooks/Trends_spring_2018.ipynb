{
 "cells": [
  {
   "cell_type": "code",
   "execution_count": 1,
   "metadata": {},
   "outputs": [],
   "source": [
    "# Import packages\n",
    "import matplotlib.pyplot as plt\n",
    "import pandas as pd\n",
    "from pytrends.request import TrendReq"
   ]
  },
  {
   "cell_type": "code",
   "execution_count": 2,
   "metadata": {},
   "outputs": [],
   "source": [
    "# Create pytrends obj\n",
    "pytrend = TrendReq()"
   ]
  },
  {
   "cell_type": "code",
   "execution_count": 3,
   "metadata": {},
   "outputs": [],
   "source": [
    "# Create list with keywords\n",
    "kw_list = ['pasen', 'valentijnsdag']\n",
    "\n",
    "# Create payload\n",
    "pytrend.build_payload(kw_list, timeframe='2018-01-01 2018-05-30', geo='NL')\n",
    "\n",
    "# Get interest over time, in a dataframe and reset it's index\n",
    "interest = pytrend.interest_over_time().reset_index()\n",
    "\n",
    "filter1 = interest['date'].dt.month >= 2\n",
    "filter2 = interest['date'].dt.month <= 5\n",
    "q1_interest= interest.where(filter1 & filter2).dropna()"
   ]
  },
  {
   "cell_type": "code",
   "execution_count": 4,
   "metadata": {},
   "outputs": [
    {
     "name": "stdout",
     "output_type": "stream",
     "text": [
      "          date  pasen  valentijnsdag  isPartial\n",
      "31  2018-02-01    2.0            2.0        0.0\n",
      "32  2018-02-02    2.0            2.0        0.0\n",
      "33  2018-02-03    2.0            2.0        0.0\n",
      "34  2018-02-04    3.0            4.0        0.0\n",
      "35  2018-02-05    3.0            3.0        0.0\n",
      "36  2018-02-06    2.0            3.0        0.0\n",
      "37  2018-02-07    2.0            4.0        0.0\n",
      "38  2018-02-08    2.0            4.0        0.0\n",
      "39  2018-02-09    2.0            3.0        0.0\n",
      "40  2018-02-10    2.0            4.0        0.0\n",
      "41  2018-02-11    3.0            4.0        0.0\n",
      "42  2018-02-12    2.0            8.0        0.0\n",
      "43  2018-02-13    3.0           16.0        0.0\n",
      "44  2018-02-14    3.0           33.0        0.0\n",
      "45  2018-02-15    4.0            1.0        0.0\n",
      "46  2018-02-16    3.0            0.0        0.0\n",
      "47  2018-02-17    4.0            0.0        0.0\n",
      "48  2018-02-18    5.0            1.0        0.0\n",
      "49  2018-02-19    5.0            0.0        0.0\n",
      "50  2018-02-20    4.0            0.0        0.0\n",
      "51  2018-02-21    4.0            0.0        0.0\n",
      "52  2018-02-22    4.0            0.0        0.0\n",
      "53  2018-02-23    4.0            0.0        0.0\n",
      "54  2018-02-24    4.0            0.0        0.0\n",
      "55  2018-02-25    5.0            0.0        0.0\n",
      "56  2018-02-26    4.0            0.0        0.0\n",
      "57  2018-02-27    4.0            0.0        0.0\n",
      "58  2018-02-28    4.0            0.0        0.0\n",
      "59  2018-03-01    4.0            0.0        0.0\n",
      "60  2018-03-02    5.0            0.0        0.0\n",
      "61  2018-03-03    5.0            0.0        0.0\n",
      "62  2018-03-04    8.0            0.0        0.0\n",
      "63  2018-03-05    7.0            0.0        0.0\n",
      "64  2018-03-06    7.0            0.0        0.0\n",
      "65  2018-03-07    7.0            0.0        0.0\n",
      "66  2018-03-08    7.0            0.0        0.0\n",
      "67  2018-03-09    6.0            0.0        0.0\n",
      "68  2018-03-10    6.0            0.0        0.0\n",
      "69  2018-03-11    8.0            0.0        0.0\n",
      "70  2018-03-12   10.0            0.0        0.0\n",
      "71  2018-03-13    8.0            0.0        0.0\n",
      "72  2018-03-14    8.0            0.0        0.0\n",
      "73  2018-03-15    9.0            0.0        0.0\n",
      "74  2018-03-16    6.0            0.0        0.0\n",
      "75  2018-03-17    6.0            0.0        0.0\n",
      "76  2018-03-18   11.0            0.0        0.0\n",
      "77  2018-03-19   11.0            0.0        0.0\n",
      "78  2018-03-20   10.0            0.0        0.0\n",
      "79  2018-03-21   10.0            0.0        0.0\n",
      "80  2018-03-22   10.0            0.0        0.0\n",
      "81  2018-03-23   13.0            0.0        0.0\n",
      "82  2018-03-24   12.0            0.0        0.0\n",
      "83  2018-03-25   16.0            0.0        0.0\n",
      "84  2018-03-26   16.0            0.0        0.0\n",
      "85  2018-03-27   18.0            0.0        0.0\n",
      "86  2018-03-28   21.0            0.0        0.0\n",
      "87  2018-03-29   31.0            0.0        0.0\n",
      "88  2018-03-30   38.0            0.0        0.0\n",
      "89  2018-03-31   59.0            0.0        0.0\n",
      "90  2018-04-01  100.0            0.0        0.0\n",
      "91  2018-04-02   34.0            0.0        0.0\n",
      "92  2018-04-03    4.0            0.0        0.0\n",
      "93  2018-04-04    2.0            0.0        0.0\n",
      "94  2018-04-05    1.0            0.0        0.0\n",
      "95  2018-04-06    2.0            0.0        0.0\n",
      "96  2018-04-07    2.0            0.0        0.0\n",
      "97  2018-04-08    2.0            0.0        0.0\n",
      "98  2018-04-09    2.0            0.0        0.0\n",
      "99  2018-04-10    0.0            0.0        0.0\n",
      "100 2018-04-11    0.0            0.0        0.0\n",
      "101 2018-04-12    1.0            0.0        0.0\n",
      "102 2018-04-13    0.0            0.0        0.0\n",
      "103 2018-04-14    1.0            0.0        0.0\n",
      "104 2018-04-15    1.0            0.0        0.0\n",
      "105 2018-04-16    1.0            0.0        0.0\n",
      "106 2018-04-17    1.0            0.0        0.0\n",
      "107 2018-04-18    1.0            0.0        0.0\n",
      "108 2018-04-19    1.0            0.0        0.0\n",
      "109 2018-04-20    1.0            0.0        0.0\n",
      "110 2018-04-21    1.0            0.0        0.0\n",
      "111 2018-04-22    0.0            0.0        0.0\n",
      "112 2018-04-23    1.0            0.0        0.0\n",
      "113 2018-04-24    1.0            0.0        0.0\n",
      "114 2018-04-25    1.0            0.0        0.0\n",
      "115 2018-04-26    1.0            0.0        0.0\n",
      "116 2018-04-27    1.0            0.0        0.0\n",
      "117 2018-04-28    0.0            0.0        0.0\n",
      "118 2018-04-29    1.0            0.0        0.0\n",
      "119 2018-04-30    1.0            0.0        0.0\n",
      "120 2018-05-01    1.0            0.0        0.0\n",
      "121 2018-05-02    1.0            0.0        0.0\n",
      "122 2018-05-03    1.0            0.0        0.0\n",
      "123 2018-05-04    1.0            0.0        0.0\n",
      "124 2018-05-05    0.0            0.0        0.0\n",
      "125 2018-05-06    0.0            0.0        0.0\n",
      "126 2018-05-07    1.0            0.0        0.0\n",
      "127 2018-05-08    1.0            0.0        0.0\n",
      "128 2018-05-09    1.0            0.0        0.0\n",
      "129 2018-05-10    1.0            0.0        0.0\n",
      "130 2018-05-11    1.0            0.0        0.0\n",
      "131 2018-05-12    1.0            0.0        0.0\n",
      "132 2018-05-13    1.0            0.0        0.0\n",
      "133 2018-05-14    1.0            0.0        0.0\n",
      "134 2018-05-15    1.0            0.0        0.0\n",
      "135 2018-05-16    1.0            0.0        0.0\n",
      "136 2018-05-17    1.0            0.0        0.0\n",
      "137 2018-05-18    1.0            0.0        0.0\n",
      "138 2018-05-19    1.0            0.0        0.0\n",
      "139 2018-05-20    2.0            0.0        0.0\n",
      "140 2018-05-21    1.0            0.0        0.0\n",
      "141 2018-05-22    1.0            0.0        0.0\n",
      "142 2018-05-23    1.0            0.0        0.0\n",
      "143 2018-05-24    0.0            0.0        0.0\n",
      "144 2018-05-25    0.0            0.0        0.0\n",
      "145 2018-05-26    0.0            0.0        0.0\n",
      "146 2018-05-27    1.0            0.0        0.0\n",
      "147 2018-05-28    1.0            0.0        0.0\n",
      "148 2018-05-29    0.0            0.0        0.0\n",
      "149 2018-05-30    0.0            0.0        0.0\n"
     ]
    }
   ],
   "source": [
    "pd.set_option('display.max_columns', q1_interest.shape[1])\n",
    "pd.set_option('display.max_rows', None)\n",
    "pd.set_option('display.width', None)\n",
    "print(q1_interest)"
   ]
  },
  {
   "cell_type": "code",
   "execution_count": 5,
   "metadata": {},
   "outputs": [],
   "source": [
    "# Define X and Y\n",
    "x = q1_interest['date'].where(q1_interest['date'].dt.year == 2018)\n",
    "y1 = q1_interest['pasen']\n",
    "y2 = q1_interest['valentijnsdag']"
   ]
  },
  {
   "cell_type": "code",
   "execution_count": 6,
   "metadata": {},
   "outputs": [
    {
     "data": {
      "image/png": "[encoded data removed]",
      "text/plain": [
       "<Figure size 720x504 with 1 Axes>"
      ]
     },
     "metadata": {
      "needs_background": "light"
     },
     "output_type": "display_data"
    }
   ],
   "source": [
    "# Plot graphs\n",
    "fig, ax = plt.subplots(figsize=(10,7))\n",
    "\n",
    "ax.plot(x, y1, label='pasen', linestyle='-')\n",
    "ax.plot(x, y2, label='valentijnsdag', linestyle='-')\n",
    "ax.set(\n",
    "    xlabel='Q1 in 2018',\n",
    "    ylabel='Aantal zoekresultaten',\n",
    "    title='Aantal zoekresultaten, per sleutelwoord, over Q1 in 2018')\n",
    "ax.grid()\n",
    "plt.legend()\n",
    "plt.show()"
   ]
  },
  {
   "cell_type": "code",
   "execution_count": null,
   "metadata": {},
   "outputs": [],
   "source": []
  }
 ],
 "metadata": {
  "kernelspec": {
   "display_name": "Python 3",
   "language": "python",
   "name": "python3"
  },
  "language_info": {
   "codemirror_mode": {
    "name": "ipython",
    "version": 3
   },
   "file_extension": ".py",
   "mimetype": "text/x-python",
   "name": "python",
   "nbconvert_exporter": "python",
   "pygments_lexer": "ipython3",
   "version": "3.6.10"
  }
 },
 "nbformat": 4,
 "nbformat_minor": 4
}
