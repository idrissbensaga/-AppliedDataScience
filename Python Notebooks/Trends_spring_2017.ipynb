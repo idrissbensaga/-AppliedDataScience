{
 "cells": [
  {
   "cell_type": "code",
   "execution_count": 2,
   "metadata": {},
   "outputs": [],
   "source": [
    "# Import packages\n",
    "import matplotlib.pyplot as plt\n",
    "import pandas as pd\n",
    "from pytrends.request import TrendReq"
   ]
  },
  {
   "cell_type": "code",
   "execution_count": 3,
   "metadata": {},
   "outputs": [],
   "source": [
    "# Create pytrends obj\n",
    "pytrend = TrendReq()"
   ]
  },
  {
   "cell_type": "code",
   "execution_count": 4,
   "metadata": {},
   "outputs": [],
   "source": [
    "# Create list with keywords\n",
    "kw_list = ['pasen', 'valentijnsdag']\n",
    "\n",
    "# Create payload\n",
    "pytrend.build_payload(kw_list, timeframe='2017-01-01 2017-05-30', geo='NL')\n",
    "\n",
    "# Get interest over time, in a dataframe and reset it's index\n",
    "interest = pytrend.interest_over_time().reset_index()\n",
    "\n",
    "filter1 = interest['date'].dt.month >= 2\n",
    "filter2 = interest['date'].dt.month <= 5\n",
    "q1_interest= interest.where(filter1 & filter2).dropna()"
   ]
  },
  {
   "cell_type": "code",
   "execution_count": 5,
   "metadata": {},
   "outputs": [
    {
     "name": "stdout",
     "output_type": "stream",
     "text": [
      "          date  pasen  valentijnsdag  isPartial\n",
      "31  2017-02-01    2.0            2.0        0.0\n",
      "32  2017-02-02    2.0            2.0        0.0\n",
      "33  2017-02-03    2.0            2.0        0.0\n",
      "34  2017-02-04    3.0            2.0        0.0\n",
      "35  2017-02-05    3.0            2.0        0.0\n",
      "36  2017-02-06    2.0            3.0        0.0\n",
      "37  2017-02-07    2.0            4.0        0.0\n",
      "38  2017-02-08    2.0            5.0        0.0\n",
      "39  2017-02-09    2.0            3.0        0.0\n",
      "40  2017-02-10    2.0            4.0        0.0\n",
      "41  2017-02-11    2.0            5.0        0.0\n",
      "42  2017-02-12    3.0            7.0        0.0\n",
      "43  2017-02-13    2.0           18.0        0.0\n",
      "44  2017-02-14    3.0           33.0        0.0\n",
      "45  2017-02-15    3.0            2.0        0.0\n",
      "46  2017-02-16    3.0            0.0        0.0\n",
      "47  2017-02-17    2.0            0.0        0.0\n",
      "48  2017-02-18    3.0            0.0        0.0\n",
      "49  2017-02-19    5.0            0.0        0.0\n",
      "50  2017-02-20    3.0            0.0        0.0\n",
      "51  2017-02-21    3.0            0.0        0.0\n",
      "52  2017-02-22    4.0            0.0        0.0\n",
      "53  2017-02-23    3.0            0.0        0.0\n",
      "54  2017-02-24    3.0            0.0        0.0\n",
      "55  2017-02-25    3.0            0.0        0.0\n",
      "56  2017-02-26    5.0            0.0        0.0\n",
      "57  2017-02-27    3.0            0.0        0.0\n",
      "58  2017-02-28    5.0            0.0        0.0\n",
      "59  2017-03-01    5.0            0.0        0.0\n",
      "60  2017-03-02    4.0            0.0        0.0\n",
      "61  2017-03-03    4.0            0.0        0.0\n",
      "62  2017-03-04    5.0            0.0        0.0\n",
      "63  2017-03-05    7.0            0.0        0.0\n",
      "64  2017-03-06    5.0            0.0        0.0\n",
      "65  2017-03-07    5.0            0.0        0.0\n",
      "66  2017-03-08    6.0            0.0        0.0\n",
      "67  2017-03-09    5.0            0.0        0.0\n",
      "68  2017-03-10    5.0            0.0        0.0\n",
      "69  2017-03-11    4.0            0.0        0.0\n",
      "70  2017-03-12    7.0            0.0        0.0\n",
      "71  2017-03-13    6.0            0.0        0.0\n",
      "72  2017-03-14    6.0            0.0        0.0\n",
      "73  2017-03-15    5.0            0.0        0.0\n",
      "74  2017-03-16    6.0            0.0        0.0\n",
      "75  2017-03-17    6.0            0.0        0.0\n",
      "76  2017-03-18    7.0            0.0        0.0\n",
      "77  2017-03-19    8.0            0.0        0.0\n",
      "78  2017-03-20    8.0            0.0        0.0\n",
      "79  2017-03-21    8.0            0.0        0.0\n",
      "80  2017-03-22    7.0            0.0        0.0\n",
      "81  2017-03-23    7.0            0.0        0.0\n",
      "82  2017-03-24    6.0            0.0        0.0\n",
      "83  2017-03-25    8.0            0.0        0.0\n",
      "84  2017-03-26   10.0            0.0        0.0\n",
      "85  2017-03-27    8.0            0.0        0.0\n",
      "86  2017-03-28    8.0            0.0        0.0\n",
      "87  2017-03-29    9.0            0.0        0.0\n",
      "88  2017-03-30    7.0            0.0        0.0\n",
      "89  2017-03-31    7.0            0.0        0.0\n",
      "90  2017-04-01    8.0            0.0        0.0\n",
      "91  2017-04-02   12.0            0.0        0.0\n",
      "92  2017-04-03   11.0            0.0        0.0\n",
      "93  2017-04-04   12.0            0.0        0.0\n",
      "94  2017-04-05   10.0            0.0        0.0\n",
      "95  2017-04-06   11.0            0.0        0.0\n",
      "96  2017-04-07   12.0            0.0        0.0\n",
      "97  2017-04-08    9.0            0.0        0.0\n",
      "98  2017-04-09   12.0            0.0        0.0\n",
      "99  2017-04-10   16.0            0.0        0.0\n",
      "100 2017-04-11   17.0            0.0        0.0\n",
      "101 2017-04-12   20.0            0.0        0.0\n",
      "102 2017-04-13   32.0            0.0        0.0\n",
      "103 2017-04-14   44.0            0.0        0.0\n",
      "104 2017-04-15   62.0            0.0        0.0\n",
      "105 2017-04-16  100.0            0.0        0.0\n",
      "106 2017-04-17   40.0            0.0        0.0\n",
      "107 2017-04-18    4.0            0.0        0.0\n",
      "108 2017-04-19    2.0            0.0        0.0\n",
      "109 2017-04-20    1.0            0.0        0.0\n",
      "110 2017-04-21    1.0            0.0        0.0\n",
      "111 2017-04-22    1.0            0.0        0.0\n",
      "112 2017-04-23    2.0            0.0        0.0\n",
      "113 2017-04-24    1.0            0.0        0.0\n",
      "114 2017-04-25    1.0            0.0        0.0\n",
      "115 2017-04-26    1.0            0.0        0.0\n",
      "116 2017-04-27    0.0            0.0        0.0\n",
      "117 2017-04-28    1.0            0.0        0.0\n",
      "118 2017-04-29    1.0            0.0        0.0\n",
      "119 2017-04-30    1.0            0.0        0.0\n",
      "120 2017-05-01    1.0            0.0        0.0\n",
      "121 2017-05-02    1.0            0.0        0.0\n",
      "122 2017-05-03    0.0            0.0        0.0\n",
      "123 2017-05-04    1.0            0.0        0.0\n",
      "124 2017-05-05    1.0            0.0        0.0\n",
      "125 2017-05-06    1.0            0.0        0.0\n",
      "126 2017-05-07    1.0            0.0        0.0\n",
      "127 2017-05-08    1.0            0.0        0.0\n",
      "128 2017-05-09    1.0            0.0        0.0\n",
      "129 2017-05-10    0.0            0.0        0.0\n",
      "130 2017-05-11    1.0            0.0        0.0\n",
      "131 2017-05-12    1.0            0.0        0.0\n",
      "132 2017-05-13    1.0            0.0        0.0\n",
      "133 2017-05-14    1.0            0.0        0.0\n",
      "134 2017-05-15    1.0            0.0        0.0\n",
      "135 2017-05-16    1.0            0.0        0.0\n",
      "136 2017-05-17    0.0            0.0        0.0\n",
      "137 2017-05-18    0.0            0.0        0.0\n",
      "138 2017-05-19    1.0            0.0        0.0\n",
      "139 2017-05-20    1.0            0.0        0.0\n",
      "140 2017-05-21    1.0            0.0        0.0\n",
      "141 2017-05-22    0.0            0.0        0.0\n",
      "142 2017-05-23    1.0            0.0        0.0\n",
      "143 2017-05-24    1.0            0.0        0.0\n",
      "144 2017-05-25    1.0            0.0        0.0\n",
      "145 2017-05-26    0.0            0.0        0.0\n",
      "146 2017-05-27    0.0            0.0        0.0\n",
      "147 2017-05-28    1.0            0.0        0.0\n",
      "148 2017-05-29    0.0            0.0        0.0\n",
      "149 2017-05-30    1.0            0.0        0.0\n"
     ]
    }
   ],
   "source": [
    "pd.set_option('display.max_columns', q1_interest.shape[1])\n",
    "pd.set_option('display.max_rows', None)\n",
    "pd.set_option('display.width', None)\n",
    "print(q1_interest)"
   ]
  },
  {
   "cell_type": "code",
   "execution_count": 6,
   "metadata": {},
   "outputs": [],
   "source": [
    "# Define X and Y\n",
    "x = q1_interest['date'].where(q1_interest['date'].dt.year == 2017)\n",
    "y1 = q1_interest['pasen']\n",
    "y2 = q1_interest['valentijnsdag']"
   ]
  },
  {
   "cell_type": "code",
   "execution_count": 7,
   "metadata": {},
   "outputs": [
    {
     "data": {
      "image/png": "[encoded data removed]",
      "text/plain": [
       "<Figure size 720x504 with 1 Axes>"
      ]
     },
     "metadata": {
      "needs_background": "light"
     },
     "output_type": "display_data"
    }
   ],
   "source": [
    "# Plot graphs\n",
    "fig, ax = plt.subplots(figsize=(10,7))\n",
    "\n",
    "ax.plot(x, y1, label='pasen', linestyle='-')\n",
    "ax.plot(x, y2, label='valentijnsdag', linestyle='-')\n",
    "ax.set(\n",
    "    xlabel='Q1 in 2017',\n",
    "    ylabel='Aantal zoekresultaten',\n",
    "    title='Aantal zoekresultaten, per sleutelwoord, over Q1 in 2017')\n",
    "ax.grid()\n",
    "plt.legend()\n",
    "plt.show()"
   ]
  },
  {
   "cell_type": "code",
   "execution_count": null,
   "metadata": {},
   "outputs": [],
   "source": []
  }
 ],
 "metadata": {
  "kernelspec": {
   "display_name": "Python 3",
   "language": "python",
   "name": "python3"
  },
  "language_info": {
   "codemirror_mode": {
    "name": "ipython",
    "version": 3
   },
   "file_extension": ".py",
   "mimetype": "text/x-python",
   "name": "python",
   "nbconvert_exporter": "python",
   "pygments_lexer": "ipython3",
   "version": "3.6.10"
  }
 },
 "nbformat": 4,
 "nbformat_minor": 4
}
